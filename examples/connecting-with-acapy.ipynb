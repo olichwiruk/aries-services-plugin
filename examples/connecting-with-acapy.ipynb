{
 "cells": [
  {
   "cell_type": "code",
   "execution_count": 510,
   "metadata": {},
   "outputs": [],
   "source": [
    "import requests \n",
    "import re as regex\n",
    "import json\n",
    "import pprint as pp # pretty print\n",
    "\n",
    "import aries_cloudagent.wallet.crypto as crypto\n",
    "import aries_cloudagent.wallet.util as util\n",
    "import base64\n",
    "import base58\n",
    "import uuid\n",
    "\n",
    "agent1 = {}\n",
    "agent2 = {}\n",
    "plugin = {}"
   ]
  },
  {
   "cell_type": "markdown",
   "metadata": {},
   "source": [
    "## Enter Invite Url:"
   ]
  },
  {
   "cell_type": "code",
   "execution_count": 511,
   "metadata": {},
   "outputs": [],
   "source": [
    "agent1['url'] = \"http://agent2.localhost?c_i=eyJAdHlwZSI6ICJkaWQ6c292OkJ6Q2JzTlloTXJqSGlxWkRUVUFTSGc7c3BlYy9jb25uZWN0aW9ucy8xLjAvaW52aXRhdGlvbiIsICJAaWQiOiAiNDQwODVkNzktYmIxYS00OGYyLWJkZDUtZGYwYjE5MGUxMjI3IiwgImxhYmVsIjogIkNsaWVudCAoYWRtaW4pIiwgInJlY2lwaWVudEtleXMiOiBbIndhWEduNnh1ZG5ybVFiYTVqTWpxTmVuclExMnY1VDFrN1hRNUV0SDcyenYiXSwgInNlcnZpY2VFbmRwb2ludCI6ICJodHRwOi8vYWdlbnQyLmxvY2FsaG9zdCJ9\""
   ]
  },
  {
   "cell_type": "code",
   "execution_count": 512,
   "metadata": {
    "scrolled": true
   },
   "outputs": [
    {
     "name": "stdout",
     "output_type": "stream",
     "text": [
      "Decoded invitation:\n",
      "\n",
      "{'@id': '44085d79-bb1a-48f2-bdd5-df0b190e1227',\n",
      " '@type': 'did:sov:BzCbsNYhMrjHiqZDTUASHg;spec/connections/1.0/invitation',\n",
      " 'label': 'Client (admin)',\n",
      " 'recipientKeys': ['waXGn6xudnrmQba5jMjqNenrQ12v5T1k7XQ5EtH72zv'],\n",
      " 'serviceEndpoint': 'http://agent2.localhost'}\n"
     ]
    }
   ],
   "source": [
    "# Process invite url, delete white spaces\n",
    "agent1['url'] = agent1['url'].replace(\" \", \"\")\n",
    "# Regex(substitution) to extract only the invite string from url\n",
    "agent1['invite_string_b64'] = regex.sub(\n",
    "           r\".*(c\\_i\\=)\", \n",
    "           r\"\", \n",
    "           agent1['url'])\n",
    "# Decoding invite string using base64 decoder\n",
    "agent1['invite_string'] = base64.b64decode(agent1['invite_string_b64'])\n",
    "# Converting our invite json string into a dictionary \n",
    "agent1['invite'] = json.loads(agent1['invite_string'])\n",
    "\n",
    "print(\"Decoded invitation:\\n\")\n",
    "pp.pprint(agent1['invite'])"
   ]
  },
  {
   "cell_type": "code",
   "execution_count": 513,
   "metadata": {},
   "outputs": [
    {
     "name": "stdout",
     "output_type": "stream",
     "text": [
      "Private key: \n",
      " 48KFMNxN2mxGfeDM6SVJKab96xgisTEakEcyeoWjRxbtgDPamdJioGQMJBHess18ZMdfAN6YJ18BSCgTN6PygiDe\n",
      "\n",
      "Public key: \n",
      " HMgWkf5iUgXtkaGopCehaxQDtawwgAwcDG3vCik7DiEc\n"
     ]
    }
   ],
   "source": [
    "### Generating a did key using aries crypto module\n",
    "# Create a key pair with random seed \n",
    "# Order: 0 - public key, 1 - secret / pritvate key\n",
    "plugin['keypair'] = crypto.create_keypair()\n",
    "# it seems to me that did is an encoded sub string of public key\n",
    "# or maybe just some arbitrary random number\n",
    "did = plugin['keypair'][0][:16]\n",
    "# final version of our did\n",
    "plugin['did'] = base58.b58encode(did).decode(\"ascii\")\n",
    "# encoding keys to base58\n",
    "plugin['public_key_b58'] = \\\n",
    "    base58.b58encode(plugin['keypair'][0]).decode(\"ascii\")\n",
    "plugin['private_key_b58'] = \\\n",
    "    base58.b58encode(plugin['keypair'][1]).decode(\"ascii\")\n",
    "\n",
    "# print(base58.b58encode(did))\n",
    "# print(plugin['did'])\n",
    "print(\"Private key: \\n\", plugin['private_key_b58'])\n",
    "print(\"\\nPublic key: \\n\", plugin['public_key_b58'])"
   ]
  },
  {
   "cell_type": "markdown",
   "metadata": {},
   "source": [
    "**Sending a connection request to acapy**"
   ]
  },
  {
   "cell_type": "code",
   "execution_count": 514,
   "metadata": {},
   "outputs": [],
   "source": [
    "uniqueId = str(uuid.uuid4())\n",
    "# print(uniqueId)\n",
    "\n",
    "# our request body\n",
    "message = {\n",
    "        \"@id\":  uniqueId,\n",
    "        \"~transport\": {\n",
    "          \"return_route\": \"all\"\n",
    "        },\n",
    "        \"@type\": \"did:sov:BzCbsNYhMrjHiqZDTUASHg;spec/connections/1.0/request\",\n",
    "        \"label\": \"Plugin\",\n",
    "        \"connection\": {\n",
    "          \"DID\": plugin['did'],\n",
    "          \"DIDDoc\": {\n",
    "            \"@context\": \"https://w3id.org/did/v1\",\n",
    "            \"id\": plugin['did'],\n",
    "            \"publicKey\": [{\n",
    "              \"id\": plugin['did'] + \"#keys-1\",\n",
    "              \"type\": \"Ed25519VerificationKey2018\",\n",
    "              \"controller\": plugin['did'],\n",
    "              \"publicKeyBase58\": plugin['public_key_b58']\n",
    "            }],\n",
    "            \"service\": [{\n",
    "              \"id\": plugin['did'] + \";indy\",\n",
    "              \"type\": \"IndyAgent\",\n",
    "              \"recipientKeys\": plugin['public_key_b58'],\n",
    "              \"serviceEndpoint\": \"\"\n",
    "            }]\n",
    "          }\n",
    "        }\n",
    "      }"
   ]
  },
  {
   "cell_type": "markdown",
   "metadata": {},
   "source": [
    "**Encoding/packing the request**"
   ]
  },
  {
   "cell_type": "code",
   "execution_count": 515,
   "metadata": {},
   "outputs": [],
   "source": [
    "# encoding it with aries crypto function using the key that was\n",
    "# given to us by aca-py in recipientKeys\n",
    "decodedAcapyKey = base58.b58decode(agent1['invite']['recipientKeys'][0])\n",
    "ourPrivateKey = plugin['keypair'][1]\n",
    "# print(plugin['did'])\n",
    "encodedMessage = \\\n",
    "    crypto.encode_pack_message(json.dumps(message), [decodedAcapyKey], ourPrivateKey)\n",
    "\n",
    "encodedMessage = encodedMessage.decode(\"ascii\")\n",
    "# print(\"Encoded message: \\n\")\n",
    "# pp.pprint(encodedMessage)"
   ]
  },
  {
   "cell_type": "code",
   "execution_count": 516,
   "metadata": {},
   "outputs": [],
   "source": [
    "connectionRequestResponse = requests.post(agent1['invite']['serviceEndpoint'], data=encodedMessage)\n",
    "assert connectionRequestResponse.text != \"\", \"invalid response from acapy\""
   ]
  },
  {
   "cell_type": "markdown",
   "metadata": {},
   "source": [
    "**Response from aca-py**"
   ]
  },
  {
   "cell_type": "code",
   "execution_count": 517,
   "metadata": {
    "scrolled": true
   },
   "outputs": [
    {
     "name": "stdout",
     "output_type": "stream",
     "text": [
      "Decoded acapy response: \n",
      "\n",
      "('{\"@type\": \"did:sov:BzCbsNYhMrjHiqZDTUASHg;spec/connections/1.0/response\", '\n",
      " '\"@id\": \"0f0b7e8a-1f5e-4256-953f-97e4bdc3f1f6\", \"~thread\": {\"thid\": '\n",
      " '\"827f705f-43fe-457f-bde6-b42c1a3d55be\"}, \"connection~sig\": {\"@type\": '\n",
      " '\"did:sov:BzCbsNYhMrjHiqZDTUASHg;spec/signature/1.0/ed25519Sha512_single\", '\n",
      " '\"signature\": '\n",
      " '\"hqZG-0PQq_8prgizR_5rg5kUk_w6q7byc6FtgLG81QOHfUhtgAkRF25kZ9iS_wEcqdhU6h7lENv-_VCdCIwfAQ==\", '\n",
      " '\"sig_data\": '\n",
      " '\"AAAAAF69I-p7IkRJRCI6ICJYRzl0QkVUVUM2dEdjTmQxYWF3VDFHIiwgIkRJRERvYyI6IHsiQGNvbnRleHQiOiAiaHR0cHM6Ly93M2lkLm9yZy9kaWQvdjEiLCAiaWQiOiAiZGlkOnNvdjpYRzl0QkVUVUM2dEdjTmQxYWF3VDFHIiwgInB1YmxpY0tleSI6IFt7ImlkIjogImRpZDpzb3Y6WEc5dEJFVFVDNnRHY05kMWFhd1QxRyMxIiwgInR5cGUiOiAiRWQyNTUxOVZlcmlmaWNhdGlvbktleTIwMTgiLCAiY29udHJvbGxlciI6ICJkaWQ6c292OlhHOXRCRVRVQzZ0R2NOZDFhYXdUMUciLCAicHVibGljS2V5QmFzZTU4IjogIkhWY3JNZXVoY2taV2J0RGphUmtqMlFQSjRhdzJQYmRMdGlVcDdoa3BoeDl3In1dLCAiYXV0aGVudGljYXRpb24iOiBbeyJ0eXBlIjogIkVkMjU1MTlTaWduYXR1cmVBdXRoZW50aWNhdGlvbjIwMTgiLCAicHVibGljS2V5IjogImRpZDpzb3Y6WEc5dEJFVFVDNnRHY05kMWFhd1QxRyMxIn1dLCAic2VydmljZSI6IFt7ImlkIjogImRpZDpzb3Y6WEc5dEJFVFVDNnRHY05kMWFhd1QxRztpbmR5IiwgInR5cGUiOiAiSW5keUFnZW50IiwgInByaW9yaXR5IjogMCwgInJlY2lwaWVudEtleXMiOiBbIkhWY3JNZXVoY2taV2J0RGphUmtqMlFQSjRhdzJQYmRMdGlVcDdoa3BoeDl3Il0sICJzZXJ2aWNlRW5kcG9pbnQiOiAiaHR0cDovL2FnZW50Mi5sb2NhbGhvc3QifV19fQ==\", '\n",
      " '\"signer\": \"waXGn6xudnrmQba5jMjqNenrQ12v5T1k7XQ5EtH72zv\"}}',\n",
      " 'waXGn6xudnrmQba5jMjqNenrQ12v5T1k7XQ5EtH72zv',\n",
      " 'HMgWkf5iUgXtkaGopCehaxQDtawwgAwcDG3vCik7DiEc')\n"
     ]
    }
   ],
   "source": [
    "# a bit of a hack to simplify message unpacking,\n",
    "# decode_pack_message needs a callable object for some reason\n",
    "def unpackMessage(message, privateKey):\n",
    "    class FindKey:\n",
    "        def __init__(self, key):\n",
    "            self.key = key\n",
    "\n",
    "        def __call__(self, argument):\n",
    "            return self.key\n",
    "\n",
    "    find_key = FindKey(privateKey)   \n",
    "    return crypto.decode_pack_message(message, find_key)\n",
    "    \n",
    "connectionRequestResponseUnpacked = \\\n",
    "    unpackMessage(connectionRequestResponse.text, plugin['keypair'][1])\n",
    "\n",
    "connectionRequestResponseDict = json.loads(connectionRequestResponseUnpacked[0])\n",
    "\n",
    "print(\"Decoded acapy response: \\n\")\n",
    "pp.pprint(connectionRequestResponseUnpacked)"
   ]
  },
  {
   "cell_type": "markdown",
   "metadata": {},
   "source": [
    "**Unpacking connection data embedded in the response**"
   ]
  },
  {
   "cell_type": "code",
   "execution_count": 521,
   "metadata": {
    "scrolled": true
   },
   "outputs": [
    {
     "name": "stdout",
     "output_type": "stream",
     "text": [
      "{'DID': 'XG9tBETUC6tGcNd1aawT1G',\n",
      " 'DIDDoc': {'@context': 'https://w3id.org/did/v1',\n",
      "            'authentication': [{'publicKey': 'did:sov:XG9tBETUC6tGcNd1aawT1G#1',\n",
      "                                'type': 'Ed25519SignatureAuthentication2018'}],\n",
      "            'id': 'did:sov:XG9tBETUC6tGcNd1aawT1G',\n",
      "            'publicKey': [{'controller': 'did:sov:XG9tBETUC6tGcNd1aawT1G',\n",
      "                           'id': 'did:sov:XG9tBETUC6tGcNd1aawT1G#1',\n",
      "                           'publicKeyBase58': 'HVcrMeuhckZWbtDjaRkj2QPJ4aw2PbdLtiUp7hkphx9w',\n",
      "                           'type': 'Ed25519VerificationKey2018'}],\n",
      "            'service': [{'id': 'did:sov:XG9tBETUC6tGcNd1aawT1G;indy',\n",
      "                         'priority': 0,\n",
      "                         'recipientKeys': ['HVcrMeuhckZWbtDjaRkj2QPJ4aw2PbdLtiUp7hkphx9w'],\n",
      "                         'serviceEndpoint': 'http://agent2.localhost',\n",
      "                         'type': 'IndyAgent'}]}}\n"
     ]
    }
   ],
   "source": [
    "sig_data_raw = connectionRequestResponseDict['connection~sig']['sig_data']\n",
    "#  (this is a hack)replacing artifacts that sometimes happen\n",
    "sig_data_raw = sig_data_raw.replace(\"-\", \"1\")\n",
    "sig_data_raw = sig_data_raw.replace(\"_\", \"1\")\n",
    "\n",
    "sig_data_raw = base64.b64decode(sig_data_raw)\n",
    "# avoid first 8 characters as they are a time signature\n",
    "sig_data_raw = sig_data_raw[8:]\n",
    "sig_data_raw = sig_data_raw.decode('ascii')\n",
    "\n",
    "sig_data = json.loads(sig_data_raw)\n",
    "pp.pprint(sig_data)"
   ]
  },
  {
   "cell_type": "markdown",
   "metadata": {},
   "source": [
    "**Adding the connection to connection list**"
   ]
  },
  {
   "cell_type": "code",
   "execution_count": 522,
   "metadata": {},
   "outputs": [
    {
     "name": "stdout",
     "output_type": "stream",
     "text": [
      "[{'DIDDoc': {'@context': 'https://w3id.org/did/v1',\n",
      "             'authentication': [{'publicKey': 'did:sov:XG9tBETUC6tGcNd1aawT1G#1',\n",
      "                                 'type': 'Ed25519SignatureAuthentication2018'}],\n",
      "             'id': 'did:sov:XG9tBETUC6tGcNd1aawT1G',\n",
      "             'publicKey': [{'controller': 'did:sov:XG9tBETUC6tGcNd1aawT1G',\n",
      "                            'id': 'did:sov:XG9tBETUC6tGcNd1aawT1G#1',\n",
      "                            'publicKeyBase58': 'HVcrMeuhckZWbtDjaRkj2QPJ4aw2PbdLtiUp7hkphx9w',\n",
      "                            'type': 'Ed25519VerificationKey2018'}],\n",
      "             'service': [{'id': 'did:sov:XG9tBETUC6tGcNd1aawT1G;indy',\n",
      "                          'priority': 0,\n",
      "                          'recipientKeys': ['HVcrMeuhckZWbtDjaRkj2QPJ4aw2PbdLtiUp7hkphx9w'],\n",
      "                          'serviceEndpoint': 'http://agent2.localhost',\n",
      "                          'type': 'IndyAgent'}]},\n",
      "  'label': 'Client (admin)',\n",
      "  'myKey': b'\\x9c[\\xdc\\xce\\xcd\\xa2b\\x8d\\x03!\\xd6+\\x9fR\\x19dT\\xed<\\x96\\x16\\x9a>!'\n",
      "           b'P=X\\x01d\\xd8\\xf4\\x03\\xf3\\x07H\\xd2\\xfb>\\x1d\\xb1\\x00\\x96\\x8d\\xeb'\n",
      "           b'\\xc4\\xc0\\x0e\\x15\\x0e\\x8f\\x0c\\x96\\x19\\xd7\\x9c_\\xd8\\x1b\\x9a<'\n",
      "           b'\\xf2\\x96\\xd0\\xb9'}]\n"
     ]
    }
   ],
   "source": [
    "connections = [\n",
    "    {\n",
    "        \"label\": agent1['invite']['label'],\n",
    "        \"DIDDoc\": sig_data['DIDDoc'],\n",
    "        \"myKey\": plugin['keypair'][1]\n",
    "    }\n",
    "]\n",
    "\n",
    "def packMessage(message, connection):\n",
    "    # pass in our private key and recipient key to the encode_pack_message\n",
    "    decodedRecipientKey = base58.b58decode(connection['DIDDoc']['service'][0]['recipientKeys'][0])\n",
    "    packedMessage = \\\n",
    "    crypto.encode_pack_message(json.dumps(message), \\\n",
    "                               [decodedRecipientKey], \\\n",
    "                               connection['myKey'])\n",
    "    return packedMessage.decode('ascii')\n",
    "\n",
    "\n",
    "pp.pprint(connections)"
   ]
  },
  {
   "cell_type": "markdown",
   "metadata": {},
   "source": [
    "### FEATURE DISCOVERY"
   ]
  },
  {
   "cell_type": "code",
   "execution_count": 523,
   "metadata": {
    "scrolled": true
   },
   "outputs": [
    {
     "name": "stdout",
     "output_type": "stream",
     "text": [
      "{'@id': 'f0a4798d-ddf7-4658-a5d7-e65a2e75a777',\n",
      " '@type': 'did:sov:BzCbsNYhMrjHiqZDTUASHg;spec/discover-features/1.0/disclose',\n",
      " 'protocols': [{'pid': 'did:sov:BzCbsNYhMrjHiqZDTUASHg;spec/credential-presentation/0.1'},\n",
      "               {'pid': 'did:sov:BzCbsNYhMrjHiqZDTUASHg;spec/basicmessage/1.0'},\n",
      "               {'pid': 'https://didcomm.org/present-proof/1.0'},\n",
      "               {'pid': 'https://didcomm.org/routing/1.0'},\n",
      "               {'pid': 'did:sov:BzCbsNYhMrjHiqZDTUASHg;spec/admin-static-connections/0.1'},\n",
      "               {'pid': 'https://didcomm.org/trust_ping/1.0'},\n",
      "               {'pid': 'did:sov:BzCbsNYhMrjHiqZDTUASHg;spec/connections/1.0'},\n",
      "               {'pid': 'did:sov:BzCbsNYhMrjHiqZDTUASHg;spec/credential-issuance/0.1'},\n",
      "               {'pid': 'did:sov:BzCbsNYhMrjHiqZDTUASHg;spec/admin-connections/0.1'},\n",
      "               {'pid': 'https://github.com/hyperledger/aries-toolbox/tree/master/docs/admin-connections/0.1'},\n",
      "               {'pid': 'https://didcomm.org/discover-features/1.0'},\n",
      "               {'pid': 'did:sov:BzCbsNYhMrjHiqZDTUASHg;spec/notification/1.0'},\n",
      "               {'pid': 'did:sov:BzCbsNYhMrjHiqZDTUASHg;spec/admin-dids/0.1'},\n",
      "               {'pid': 'https://didcomm.org/credential-presentation/0.1'},\n",
      "               {'pid': 'https://didcomm.org/notification/1.0'},\n",
      "               {'pid': 'did:sov:BzCbsNYhMrjHiqZDTUASHg;spec/trust_ping/1.0'},\n",
      "               {'pid': 'https://github.com/hyperledger/aries-toolbox/tree/master/docs/admin-invitations/0.1'},\n",
      "               {'pid': 'did:sov:BzCbsNYhMrjHiqZDTUASHg;spec/admin-credential-definitions/0.1'},\n",
      "               {'pid': 'https://github.com/hyperledger/aries-toolbox/tree/master/docs/admin-payments/0.1'},\n",
      "               {'pid': 'did:sov:BzCbsNYhMrjHiqZDTUASHg;spec/present-proof/1.0'},\n",
      "               {'pid': 'did:sov:BzCbsNYhMrjHiqZDTUASHg;spec/admin-issuer/0.1'},\n",
      "               {'pid': 'did:sov:BzCbsNYhMrjHiqZDTUASHg;spec/introduction-service/0.1'},\n",
      "               {'pid': 'https://didcomm.org/action-menu/1.0'},\n",
      "               {'pid': 'https://didcomm.org/issue-credential/1.0'},\n",
      "               {'pid': 'did:sov:BzCbsNYhMrjHiqZDTUASHg;spec/action-menu/1.0',\n",
      "                'roles': ['provider']},\n",
      "               {'pid': 'did:sov:BzCbsNYhMrjHiqZDTUASHg;spec/admin-schemas/0.1'},\n",
      "               {'pid': 'did:sov:BzCbsNYhMrjHiqZDTUASHg;spec/admin-holder/0.1'},\n",
      "               {'pid': 'https://didcomm.org/introduction-service/0.1'},\n",
      "               {'pid': 'https://didcomm.org/connections/1.0'},\n",
      "               {'pid': 'https://didcomm.org/basicmessage/1.0'},\n",
      "               {'pid': 'https://github.com/hyperledger/aries-toolbox/tree/master/docs/admin-basicmessage/0.1'},\n",
      "               {'pid': 'did:sov:BzCbsNYhMrjHiqZDTUASHg;spec/routing/1.0'},\n",
      "               {'pid': 'did:sov:BzCbsNYhMrjHiqZDTUASHg;spec/acapy-plugin/1.0'},\n",
      "               {'pid': 'did:sov:BzCbsNYhMrjHiqZDTUASHg;spec/discover-features/1.0'},\n",
      "               {'pid': 'did:sov:BzCbsNYhMrjHiqZDTUASHg;spec/issue-credential/1.0'},\n",
      "               {'pid': 'https://didcomm.org/credential-issuance/0.1'},\n",
      "               {'pid': 'https://github.com/hyperledger/aries-toolbox/tree/master/docs/admin-taa/0.1'}],\n",
      " '~thread': {'thid': '31816da6-0e4a-4b4f-85cb-4fb8600dc26a'}}\n"
     ]
    }
   ],
   "source": [
    "message = {}\n",
    "message['@id'] = str(uuid.uuid4())\n",
    "message['@type'] = \"did:sov:BzCbsNYhMrjHiqZDTUASHg;spec/discover-features/1.0/query\"\n",
    "message['~transport'] = {}\n",
    "message['~transport']['return_route'] = 'all'\n",
    "message['query'] = '*'\n",
    "encodedMessage = packMessage(message, connections[0])\n",
    "# print(encodedMessage)\n",
    "\n",
    "endpoint = connections[0]['DIDDoc']['service'][0]['serviceEndpoint']\n",
    "response = requests.post(endpoint, data=encodedMessage)\n",
    "# print(response.text)\n",
    "\n",
    "responseDecoded = unpackMessage(response.text, plugin['keypair'][1])\n",
    "responseDecoded = json.loads(responseDecoded[0])\n",
    "pp.pprint(responseDecoded)"
   ]
  },
  {
   "cell_type": "markdown",
   "metadata": {},
   "source": [
    "## Toolbox dids"
   ]
  },
  {
   "cell_type": "code",
   "execution_count": null,
   "metadata": {},
   "outputs": [],
   "source": [
    "message = {}\n",
    "message['@id'] = str(uuid.uuid4())\n",
    "message['@type'] = \"did:sov:BzCbsNYhMrjHiqZDTUASHg;spec/admin-dids/0.1/get-list-dids\"\n",
    "message['~transport'] = {}\n",
    "message['~transport']['return_route'] = 'all'\n",
    "encodedMessage = packMessage(message, connections[0])\n",
    "# print(encodedMessage)\n",
    "\n",
    "endpoint = connections[0]['DIDDoc']['service'][0]['serviceEndpoint']\n",
    "response = requests.post(endpoint, data=encodedMessage)\n",
    "# print(response.text)\n",
    "\n",
    "responseDecoded = unpackMessage(response.text, plugin['keypair'][1])\n",
    "responseDecoded = json.loads(responseDecoded[0])\n",
    "pp.pprint(responseDecoded)"
   ]
  },
  {
   "cell_type": "markdown",
   "metadata": {},
   "source": [
    "## Toolbox public did"
   ]
  },
  {
   "cell_type": "code",
   "execution_count": null,
   "metadata": {},
   "outputs": [],
   "source": [
    "message['@id'] = str(uuid.uuid4())\n",
    "message['@type'] = \"did:sov:BzCbsNYhMrjHiqZDTUASHg;spec/admin-dids/0.1/get-public-did\"\n",
    "message['~transport'] = {}\n",
    "message['~transport']['return_route'] = 'all'\n",
    "encodedMessage = packMessage(message, connections[0])\n",
    "# print(encodedMessage)\n",
    "\n",
    "endpoint = connections[0]['DIDDoc']['service'][0]['serviceEndpoint']\n",
    "response = requests.post(endpoint, data=encodedMessage)\n",
    "# print(response.text)\n",
    "\n",
    "responseDecoded = unpackMessage(response.text, plugin['keypair'][1])\n",
    "responseDecoded = json.loads(responseDecoded[0])\n",
    "pp.pprint(responseDecoded)"
   ]
  },
  {
   "cell_type": "markdown",
   "metadata": {},
   "source": [
    "## Custom plugin / protocol"
   ]
  },
  {
   "cell_type": "code",
   "execution_count": 525,
   "metadata": {},
   "outputs": [
    {
     "name": "stdout",
     "output_type": "stream",
     "text": [
      "{'@id': '512cd9a1-e3b4-48e6-91e6-99a09e7073ba',\n",
      " '@type': 'did:sov:BzCbsNYhMrjHiqZDTUASHg;spec/acapy-plugin/1.0/query',\n",
      " 'comment': 'qweqwe',\n",
      " '~thread': {'thid': 'efd9e368-aaf4-41fe-9237-a480f77f8602'}}\n"
     ]
    }
   ],
   "source": [
    "message = {}\n",
    "message['@id'] = str(uuid.uuid4())\n",
    "message['@type'] = \"did:sov:BzCbsNYhMrjHiqZDTUASHg;spec/acapy-plugin/1.0/query\"\n",
    "message['~transport'] = {}\n",
    "message['~transport']['return_route'] = 'all'\n",
    "message['comment'] = 'qweqwe'\n",
    "\n",
    "# message['comment'] = \"memes\"\n",
    "encodedMessage = packMessage(message, connections[0])\n",
    "# print(encodedMessage)\n",
    "\n",
    "endpoint = connections[0]['DIDDoc']['service'][0]['serviceEndpoint']\n",
    "response = requests.post(endpoint, data=encodedMessage)\n",
    "# print(response.text)\n",
    "\n",
    "responseDecoded = unpackMessage(response.text, plugin['keypair'][1])\n",
    "responseDecoded = json.loads(responseDecoded[0])\n",
    "pp.pprint(responseDecoded)"
   ]
  }
 ],
 "metadata": {
  "kernelspec": {
   "display_name": "Python 3",
   "language": "python",
   "name": "python3"
  },
  "language_info": {
   "codemirror_mode": {
    "name": "ipython",
    "version": 3
   },
   "file_extension": ".py",
   "mimetype": "text/x-python",
   "name": "python",
   "nbconvert_exporter": "python",
   "pygments_lexer": "ipython3",
   "version": "3.7.5"
  }
 },
 "nbformat": 4,
 "nbformat_minor": 4
}
