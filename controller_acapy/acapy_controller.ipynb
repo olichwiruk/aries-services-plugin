{
 "cells": [
  {
   "cell_type": "code",
   "execution_count": 77,
   "metadata": {},
   "outputs": [
    {
     "data": {
      "text/plain": [
       "<module 'jupyter_util' from '/home/sevni/Documents/thclab/aries/aries-acapy-plugin/controller_acapy/jupyter_util.py'>"
      ]
     },
     "execution_count": 77,
     "metadata": {},
     "output_type": "execute_result"
    }
   ],
   "source": [
    "import requests \n",
    "import json\n",
    "import pprint as pp # pretty print\n",
    "\n",
    "import aries_cloudagent.wallet.crypto as crypto\n",
    "import base64\n",
    "import base58\n",
    "import uuid\n",
    "import jupyter_util as util\n",
    "from importlib import reload\n",
    "reload(util)"
   ]
  },
  {
   "cell_type": "markdown",
   "metadata": {},
   "source": [
    "## Enter Invite Url:"
   ]
  },
  {
   "cell_type": "code",
   "execution_count": 78,
   "metadata": {},
   "outputs": [
    {
     "name": "stdout",
     "output_type": "stream",
     "text": [
      "http://agent1.localhost?c_i=eyJAdHlwZSI6ICJkaWQ6c292OkJ6Q2JzTlloTXJqSGlxWkRUVUFTSGc7c3BlYy9jb25uZWN0aW9ucy8xLjAvaW52aXRhdGlvbiIsICJAaWQiOiAiNDY2NDRjNTctNGY0My00ODg4LWJmMGQtNWYzMTkxMTMyNTc2IiwgInJlY2lwaWVudEtleXMiOiBbIkJBREpZUThMWnc5aUs3Mnp5djFTU2RVaDlxMnVyUzRSamNnVlYxUUZ2TVR6Il0sICJzZXJ2aWNlRW5kcG9pbnQiOiAiaHR0cDovL2FnZW50MS5sb2NhbGhvc3QiLCAibGFiZWwiOiAiTWFpbiAoYWRtaW4pIn0=\n"
     ]
    }
   ],
   "source": [
    "agent1 = {}\n",
    "plugin = {}\n",
    "endpoint = \"http://localhost:8150/connections/create-admin-invitation-url\"\n",
    "adminInvitationResponse = requests.post(endpoint)\n",
    "adminInvitationResponse = adminInvitationResponse.text\n",
    "agent1['url'] = json.loads(adminInvitationResponse)['invitation_url']\n",
    "print(agent1['url'])"
   ]
  },
  {
   "cell_type": "code",
   "execution_count": 79,
   "metadata": {
    "scrolled": true
   },
   "outputs": [
    {
     "name": "stdout",
     "output_type": "stream",
     "text": [
      "http://agent2.localhost?c_i=eyJAdHlwZSI6ICJkaWQ6c292OkJ6Q2JzTlloTXJqSGlxWkRUVUFTSGc7c3BlYy9jb25uZWN0aW9ucy8xLjAvaW52aXRhdGlvbiIsICJAaWQiOiAiYjcxYjFhM2UtZThiYi00NGEwLWEzM2EtNGMyOTcxZjU3YzVjIiwgInNlcnZpY2VFbmRwb2ludCI6ICJodHRwOi8vYWdlbnQyLmxvY2FsaG9zdCIsICJyZWNpcGllbnRLZXlzIjogWyJCN3dtdDg0MXpNdGRRQnp4YlA3NFhOcHhhR25NTUVBdXFzWHJxQzY5cG1GayJdLCAibGFiZWwiOiAiQ2xpZW50IChhZG1pbikifQ==\n"
     ]
    }
   ],
   "source": [
    "agent2 = {}\n",
    "endpoint = \"http://localhost:8151/connections/create-admin-invitation-url\"\n",
    "adminInvitationResponse = requests.post(endpoint)\n",
    "adminInvitationResponse = adminInvitationResponse.text\n",
    "agent2['url'] = json.loads(adminInvitationResponse)['invitation_url']\n",
    "print(agent2['url'])"
   ]
  },
  {
   "cell_type": "code",
   "execution_count": 80,
   "metadata": {
    "scrolled": true
   },
   "outputs": [
    {
     "name": "stdout",
     "output_type": "stream",
     "text": [
      "Decoded invitation:\n",
      "\n",
      "{'@id': 'b71b1a3e-e8bb-44a0-a33a-4c2971f57c5c',\n",
      " '@type': 'did:sov:BzCbsNYhMrjHiqZDTUASHg;spec/connections/1.0/invitation',\n",
      " 'label': 'Client (admin)',\n",
      " 'recipientKeys': ['B7wmt841zMtdQBzxbP74XNpxaGnMMEAuqsXrqC69pmFk'],\n",
      " 'serviceEndpoint': 'http://agent2.localhost'}\n"
     ]
    }
   ],
   "source": [
    "agent1 = util.processInviteUrl(agent1['url'])\n",
    "agent2 = util.processInviteUrl(agent2['url'])\n",
    "print(\"Decoded invitation:\\n\")\n",
    "pp.pprint(agent2['invite'])"
   ]
  },
  {
   "cell_type": "code",
   "execution_count": 81,
   "metadata": {
    "scrolled": true
   },
   "outputs": [
    {
     "name": "stdout",
     "output_type": "stream",
     "text": [
      "Private key: \n",
      " WMz78hQREYq6Ck7U8acM3xxgR9FaY3GUGc6AnVgDxn3f7ZSWVXdwGiB4TxepYq7FSFqvqQ4t46ZbWdTDH5bgnKn\n",
      "\n",
      "Public key: \n",
      " gMUbBNJqaTgEPZSZeUvHBiGzBdceusw6HgNWM9bQgW8\n"
     ]
    }
   ],
   "source": [
    "### Generating a did key using aries crypto module\n",
    "# Create a key pair with random seed \n",
    "# Order: 0 - public key, 1 - secret / pritvate key\n",
    "plugin['keypair'] = crypto.create_keypair()\n",
    "# it seems to me that did is an encoded sub string of public key\n",
    "# or maybe just some arbitrary random number\n",
    "did = plugin['keypair'][0][:16]\n",
    "# final version of our did\n",
    "plugin['did'] = base58.b58encode(did).decode(\"ascii\")\n",
    "# encoding keys to base58\n",
    "plugin['public_key_b58'] = \\\n",
    "    base58.b58encode(plugin['keypair'][0]).decode(\"ascii\")\n",
    "plugin['private_key_b58'] = \\\n",
    "    base58.b58encode(plugin['keypair'][1]).decode(\"ascii\")\n",
    "\n",
    "print(\"Private key: \\n\", plugin['private_key_b58'])\n",
    "print(\"\\nPublic key: \\n\", plugin['public_key_b58'])"
   ]
  },
  {
   "cell_type": "markdown",
   "metadata": {},
   "source": [
    "**Sending a connection request to acapy**"
   ]
  },
  {
   "cell_type": "code",
   "execution_count": 82,
   "metadata": {
    "scrolled": false
   },
   "outputs": [],
   "source": [
    "agent1['connection'] = util.connectWithAcapy(agent1, plugin)\n",
    "agent2['connection'] = util.connectWithAcapy(agent2, plugin)\n",
    "# print(\"Decoded acapy response: \\n\")\n",
    "# pp.pprint(agent1['conn'])"
   ]
  },
  {
   "cell_type": "markdown",
   "metadata": {},
   "source": [
    "**Unpacking connection data embedded in the response**"
   ]
  },
  {
   "cell_type": "code",
   "execution_count": 83,
   "metadata": {
    "scrolled": true
   },
   "outputs": [],
   "source": [
    "agent1['connection_details'] = util.decodeConnectionDetails(agent1['connection'])\n",
    "agent2['connection_details'] = util.decodeConnectionDetails(agent2['connection'])"
   ]
  },
  {
   "cell_type": "markdown",
   "metadata": {},
   "source": [
    "**Adding the connection to connection list**"
   ]
  },
  {
   "cell_type": "code",
   "execution_count": 84,
   "metadata": {
    "scrolled": true
   },
   "outputs": [],
   "source": [
    "agents = [\n",
    "    {\n",
    "        \"label\": agent1['invite']['label'],\n",
    "        \"DIDDoc\": agent1['connection_details']['DIDDoc'],\n",
    "        \"myKey\": plugin['keypair'][1]\n",
    "    },\n",
    "    {\n",
    "        \"label\": agent2['invite']['label'],\n",
    "        \"DIDDoc\": agent2['connection_details']['DIDDoc'],\n",
    "        \"myKey\": plugin['keypair'][1]\n",
    "    },\n",
    "]\n",
    "\n",
    "# pp.pprint(connections)"
   ]
  },
  {
   "cell_type": "markdown",
   "metadata": {},
   "source": [
    "### FEATURE DISCOVERY"
   ]
  },
  {
   "cell_type": "code",
   "execution_count": 85,
   "metadata": {},
   "outputs": [
    {
     "name": "stdout",
     "output_type": "stream",
     "text": [
      "{'@id': '01335790-9ef2-41d6-810d-0fe7f53c0785',\n",
      " '@type': 'did:sov:BzCbsNYhMrjHiqZDTUASHg;spec/discover-features/1.0/disclose',\n",
      " 'protocols': [{'pid': 'did:sov:BzCbsNYhMrjHiqZDTUASHg;spec/connections/1.0'},\n",
      "               {'pid': 'did:sov:BzCbsNYhMrjHiqZDTUASHg;spec/admin-connections/0.1'},\n",
      "               {'pid': 'https://didcomm.org/present-proof/1.0'},\n",
      "               {'pid': 'https://didcomm.org/issue-credential/1.0'},\n",
      "               {'pid': 'did:sov:BzCbsNYhMrjHiqZDTUASHg;spec/issue-credential/1.0'},\n",
      "               {'pid': 'https://didcomm.org/introduction-service/0.1'},\n",
      "               {'pid': 'https://didcomm.org/basicmessage/1.0'},\n",
      "               {'pid': 'https://github.com/hyperledger/aries-toolbox/tree/master/docs/admin-connections/0.1'},\n",
      "               {'pid': 'https://github.com/hyperledger/aries-toolbox/tree/master/docs/admin-basicmessage/0.1'},\n",
      "               {'pid': 'did:sov:BzCbsNYhMrjHiqZDTUASHg;spec/admin-static-connections/0.1'},\n",
      "               {'pid': 'did:sov:BzCbsNYhMrjHiqZDTUASHg;spec/admin-credential-definitions/0.1'},\n",
      "               {'pid': 'did:sov:BzCbsNYhMrjHiqZDTUASHg;spec/action-menu/1.0',\n",
      "                'roles': ['provider']},\n",
      "               {'pid': 'https://github.com/hyperledger/aries-toolbox/tree/master/docs/admin-invitations/0.1'},\n",
      "               {'pid': 'https://didcomm.org/trust_ping/1.0'},\n",
      "               {'pid': 'https://didcomm.org/discover-features/1.0'},\n",
      "               {'pid': 'https://didcomm.org/routing/1.0'},\n",
      "               {'pid': 'did:sov:BzCbsNYhMrjHiqZDTUASHg;spec/discover-features/1.0'},\n",
      "               {'pid': 'did:sov:BzCbsNYhMrjHiqZDTUASHg;spec/present-proof/1.0'},\n",
      "               {'pid': 'did:sov:BzCbsNYhMrjHiqZDTUASHg;spec/trust_ping/1.0'},\n",
      "               {'pid': 'https://didcomm.org/notification/1.0'},\n",
      "               {'pid': 'did:sov:BzCbsNYhMrjHiqZDTUASHg;spec/admin-dids/0.1'},\n",
      "               {'pid': 'https://github.com/hyperledger/aries-toolbox/tree/master/docs/admin-payments/0.1'},\n",
      "               {'pid': 'https://github.com/hyperledger/aries-toolbox/tree/master/docs/admin-taa/0.1'},\n",
      "               {'pid': 'did:sov:BzCbsNYhMrjHiqZDTUASHg;spec/introduction-service/0.1'},\n",
      "               {'pid': 'https://didcomm.org/connections/1.0'},\n",
      "               {'pid': 'did:sov:BzCbsNYhMrjHiqZDTUASHg;spec/admin-holder/0.1'},\n",
      "               {'pid': 'did:sov:BzCbsNYhMrjHiqZDTUASHg;spec/basicmessage/1.0'},\n",
      "               {'pid': 'did:sov:BzCbsNYhMrjHiqZDTUASHg;spec/schema-exchange/1.0'},\n",
      "               {'pid': 'did:sov:BzCbsNYhMrjHiqZDTUASHg;spec/admin-issuer/0.1'},\n",
      "               {'pid': 'did:sov:BzCbsNYhMrjHiqZDTUASHg;spec/routing/1.0'},\n",
      "               {'pid': 'https://didcomm.org/action-menu/1.0'},\n",
      "               {'pid': 'did:sov:BzCbsNYhMrjHiqZDTUASHg;spec/notification/1.0'},\n",
      "               {'pid': 'did:sov:BzCbsNYhMrjHiqZDTUASHg;spec/admin-schemas/0.1'}],\n",
      " '~thread': {'thid': 'e282abd2-e85a-4efb-8279-3894422fdba4'}}\n"
     ]
    }
   ],
   "source": [
    "pp.pprint(util.getFeatureDiscovery(agents[0]))"
   ]
  },
  {
   "cell_type": "code",
   "execution_count": null,
   "metadata": {},
   "outputs": [],
   "source": []
  },
  {
   "cell_type": "markdown",
   "metadata": {},
   "source": [
    "### Notes\n",
    "\n",
    "* To receive invitation use \"new connections\" protocol \"receive invitation\"\n",
    "* To create invitation use create invitation from \"invitations\" protocol"
   ]
  },
  {
   "cell_type": "markdown",
   "metadata": {},
   "source": [
    "### Done\n",
    "* create invitation\n",
    "* receive invitation\n",
    "* basic message\n",
    "    * get\n",
    "    * send\n",
    "    * basic message\n",
    "    * deletes\n",
    "* dids\n",
    "    * list dids\n",
    "    \n",
    "\n",
    "### Todo\n",
    "* basic message sorting\n",
    "* add problem report for did on ledger\n",
    "* add problem report for schema send"
   ]
  },
  {
   "cell_type": "code",
   "execution_count": 86,
   "metadata": {},
   "outputs": [],
   "source": [
    "# message = util.buildMessage(\n",
    "#         'did:sov:BzCbsNYhMrjHiqZDTUASHg;spec/admin-connections/0.1/create-invitation',\n",
    "#         label=\"ConnectionBetweenAgents\",\n",
    "#         auto_accept='auto',\n",
    "#         alias=\"agent1ToAgent2\"\n",
    "#     )\n",
    "# createInvitation = util.sendMessage(message, agents[0])"
   ]
  },
  {
   "cell_type": "code",
   "execution_count": 87,
   "metadata": {},
   "outputs": [],
   "source": [
    "# createInvitation"
   ]
  },
  {
   "cell_type": "code",
   "execution_count": 88,
   "metadata": {},
   "outputs": [],
   "source": [
    "message = util.buildMessage(\n",
    "        'did:sov:BzCbsNYhMrjHiqZDTUASHg;spec/schema-exchange/1.0/send',\n",
    "        payload=\"asdasdad\"\n",
    "    )\n",
    "schemaExchange = util.sendMessage(message, agents[0])"
   ]
  },
  {
   "cell_type": "code",
   "execution_count": 89,
   "metadata": {},
   "outputs": [
    {
     "data": {
      "text/plain": [
       "{'@type': 'did:sov:BzCbsNYhMrjHiqZDTUASHg;spec/notification/1.0/problem-report',\n",
       " '@id': 'a7640df6-0ca1-490f-baf6-21664047a03d',\n",
       " '~thread': {'thid': 'be26c7c2-5cb6-4089-9c01-76bff4f626b9'},\n",
       " 'explain-ltxt': 'Duplicate',\n",
       " 'who-retries': 'none'}"
      ]
     },
     "execution_count": 89,
     "metadata": {},
     "output_type": "execute_result"
    }
   ],
   "source": [
    "schemaExchange"
   ]
  },
  {
   "cell_type": "code",
   "execution_count": 90,
   "metadata": {
    "scrolled": true
   },
   "outputs": [
    {
     "name": "stdout",
     "output_type": "stream",
     "text": [
      "{'@id': 'd0c43618-aedf-4406-ac12-899a7206ea31',\n",
      " '@type': 'https://github.com/hyperledger/aries-toolbox/tree/master/docs/admin-connections/0.1/connection',\n",
      " 'connection_id': 'c4d78d86-45d2-4bbb-958a-1565cbb7d724',\n",
      " 'label': 'ConnectionBetweenAgents',\n",
      " 'my_did': 'H515yqZjjYWAf7kaGWwdQV',\n",
      " 'raw_repr': {'accept': 'auto',\n",
      "              'connection_id': 'c4d78d86-45d2-4bbb-958a-1565cbb7d724',\n",
      "              'created_at': '2020-06-09 15:26:50.912421Z',\n",
      "              'initiator': 'external',\n",
      "              'invitation_key': 'CjoRY7jWu1RndtBGnc1b4WndCCZWBVMRs84nSAFx46wy',\n",
      "              'invitation_mode': 'once',\n",
      "              'my_did': 'H515yqZjjYWAf7kaGWwdQV',\n",
      "              'request_id': '30a8aa44-6944-4dd1-8f33-486436e6158a',\n",
      "              'routing_state': 'none',\n",
      "              'state': 'request',\n",
      "              'their_label': 'ConnectionBetweenAgents',\n",
      "              'updated_at': '2020-06-09 15:26:50.941542Z'},\n",
      " 'state': 'pending'}\n"
     ]
    }
   ],
   "source": [
    "pp.pprint(util.connectAgents(agents[0], agents[1]))"
   ]
  },
  {
   "cell_type": "code",
   "execution_count": 91,
   "metadata": {},
   "outputs": [
    {
     "name": "stdout",
     "output_type": "stream",
     "text": [
      "{'@id': '751096e4-9200-43bb-9277-f3270fb4c5a8',\n",
      " '@type': 'https://github.com/hyperledger/aries-toolbox/tree/master/docs/admin-connections/0.1/list',\n",
      " 'connections': [{'connection_id': 'd14627b9-10d5-4680-baef-cc021f16b383',\n",
      "                  'label': 'Plugin',\n",
      "                  'my_did': 'Rkb5dEYibxXfDU9HBUwzh5',\n",
      "                  'raw_repr': {'accept': 'auto',\n",
      "                               'connection_id': 'd14627b9-10d5-4680-baef-cc021f16b383',\n",
      "                               'created_at': '2020-06-09 15:15:09.385387Z',\n",
      "                               'initiator': 'self',\n",
      "                               'invitation_key': '9R23CGodcwRATB5vhBpxPFvL9uizHDSgt33ZTvQUn97a',\n",
      "                               'invitation_mode': 'once',\n",
      "                               'my_did': 'Rkb5dEYibxXfDU9HBUwzh5',\n",
      "                               'routing_state': 'none',\n",
      "                               'state': 'response',\n",
      "                               'their_did': 'M8TjGvQ3bi82pv4WbrpfUv',\n",
      "                               'their_label': 'Plugin',\n",
      "                               'their_role': 'admin',\n",
      "                               'updated_at': '2020-06-09 15:15:09.793228Z'},\n",
      "                  'role': 'admin',\n",
      "                  'state': 'active',\n",
      "                  'their_did': 'M8TjGvQ3bi82pv4WbrpfUv'},\n",
      "                 {'connection_id': '7f583c69-3b04-4c3a-a9a8-54f1636db137',\n",
      "                  'label': 'ConnectionBetweenAgents',\n",
      "                  'my_did': 'V992yuD4YTv1s6SSfLLnkn',\n",
      "                  'raw_repr': {'accept': 'auto',\n",
      "                               'connection_id': '7f583c69-3b04-4c3a-a9a8-54f1636db137',\n",
      "                               'created_at': '2020-06-09 14:56:40.330661Z',\n",
      "                               'initiator': 'external',\n",
      "                               'invitation_key': '6EbsPk8Z91YKgAb2KHtdi1jP6uHJTU4mpFTchkkbXH6k',\n",
      "                               'invitation_mode': 'once',\n",
      "                               'my_did': 'V992yuD4YTv1s6SSfLLnkn',\n",
      "                               'request_id': '725e0e06-59af-4d34-836f-d875b4609a9d',\n",
      "                               'routing_state': 'none',\n",
      "                               'state': 'request',\n",
      "                               'their_label': 'ConnectionBetweenAgents',\n",
      "                               'updated_at': '2020-06-09 14:56:40.359881Z'},\n",
      "                  'role': None,\n",
      "                  'state': 'pending',\n",
      "                  'their_did': None},\n",
      "                 {'connection_id': 'c4d78d86-45d2-4bbb-958a-1565cbb7d724',\n",
      "                  'label': 'ConnectionBetweenAgents',\n",
      "                  'my_did': 'H515yqZjjYWAf7kaGWwdQV',\n",
      "                  'raw_repr': {'accept': 'auto',\n",
      "                               'connection_id': 'c4d78d86-45d2-4bbb-958a-1565cbb7d724',\n",
      "                               'created_at': '2020-06-09 15:26:50.912421Z',\n",
      "                               'initiator': 'external',\n",
      "                               'invitation_key': 'CjoRY7jWu1RndtBGnc1b4WndCCZWBVMRs84nSAFx46wy',\n",
      "                               'invitation_mode': 'once',\n",
      "                               'my_did': 'H515yqZjjYWAf7kaGWwdQV',\n",
      "                               'request_id': '30a8aa44-6944-4dd1-8f33-486436e6158a',\n",
      "                               'routing_state': 'none',\n",
      "                               'state': 'request',\n",
      "                               'their_label': 'ConnectionBetweenAgents',\n",
      "                               'updated_at': '2020-06-09 15:26:50.941542Z'},\n",
      "                  'role': None,\n",
      "                  'state': 'pending',\n",
      "                  'their_did': None},\n",
      "                 {'connection_id': '1b48deef-1d8f-480e-adc9-7212ae8c708e',\n",
      "                  'label': 'Plugin',\n",
      "                  'my_did': 'LCJKSM8E47kV6pF5ezxpDy',\n",
      "                  'raw_repr': {'accept': 'auto',\n",
      "                               'connection_id': '1b48deef-1d8f-480e-adc9-7212ae8c708e',\n",
      "                               'created_at': '2020-06-09 15:09:24.033879Z',\n",
      "                               'initiator': 'self',\n",
      "                               'invitation_key': 'FX2RBibdixnR91sgHPVvuY3L8zQ2TJNmgdYTAh3LVhLE',\n",
      "                               'invitation_mode': 'once',\n",
      "                               'my_did': 'LCJKSM8E47kV6pF5ezxpDy',\n",
      "                               'routing_state': 'none',\n",
      "                               'state': 'response',\n",
      "                               'their_did': 'FbfrvhPUreubnEZYRBRBmV',\n",
      "                               'their_label': 'Plugin',\n",
      "                               'their_role': 'admin',\n",
      "                               'updated_at': '2020-06-09 15:09:28.690079Z'},\n",
      "                  'role': 'admin',\n",
      "                  'state': 'active',\n",
      "                  'their_did': 'FbfrvhPUreubnEZYRBRBmV'},\n",
      "                 {'connection_id': '5d4afc3f-7915-4cb6-8f39-1c7fa9598a79',\n",
      "                  'label': 'Plugin',\n",
      "                  'my_did': 'QQZSM4V81j1ctMAdR7zssE',\n",
      "                  'raw_repr': {'accept': 'auto',\n",
      "                               'connection_id': '5d4afc3f-7915-4cb6-8f39-1c7fa9598a79',\n",
      "                               'created_at': '2020-06-09 14:56:39.734613Z',\n",
      "                               'initiator': 'self',\n",
      "                               'invitation_key': 'HwVqFK3jkjM2k6vcyDqEMw7p1bYuHfij9ydCFKjiTwt9',\n",
      "                               'invitation_mode': 'once',\n",
      "                               'my_did': 'QQZSM4V81j1ctMAdR7zssE',\n",
      "                               'routing_state': 'none',\n",
      "                               'state': 'active',\n",
      "                               'their_did': 'KtEsioiMo9TBoSZbHK9wrK',\n",
      "                               'their_label': 'Plugin',\n",
      "                               'their_role': 'admin',\n",
      "                               'updated_at': '2020-06-09 14:56:40.314768Z'},\n",
      "                  'role': 'admin',\n",
      "                  'state': 'active',\n",
      "                  'their_did': 'KtEsioiMo9TBoSZbHK9wrK'},\n",
      "                 {'connection_id': '2f3974d3-6814-4a9a-923a-2c69260a3f73',\n",
      "                  'label': None,\n",
      "                  'my_did': None,\n",
      "                  'raw_repr': {'accept': 'auto',\n",
      "                               'connection_id': '2f3974d3-6814-4a9a-923a-2c69260a3f73',\n",
      "                               'created_at': '2020-06-09 14:56:09.110881Z',\n",
      "                               'initiator': 'self',\n",
      "                               'invitation_key': 'D8Z63ucGMaQ5cRKD3kTRzQMKVwJFUfuhCvm78DmXGEA1',\n",
      "                               'invitation_mode': 'once',\n",
      "                               'routing_state': 'none',\n",
      "                               'state': 'invitation',\n",
      "                               'their_role': 'admin',\n",
      "                               'updated_at': '2020-06-09 14:56:09.110881Z'},\n",
      "                  'role': 'admin',\n",
      "                  'state': 'pending',\n",
      "                  'their_did': None},\n",
      "                 {'connection_id': '7767cb86-80ae-4c59-8765-344c0deeb424',\n",
      "                  'label': 'Plugin',\n",
      "                  'my_did': 'JMdHwmQF6LWjfNrZ29NUBn',\n",
      "                  'raw_repr': {'accept': 'auto',\n",
      "                               'connection_id': '7767cb86-80ae-4c59-8765-344c0deeb424',\n",
      "                               'created_at': '2020-06-09 15:24:11.108335Z',\n",
      "                               'initiator': 'self',\n",
      "                               'invitation_key': '56qqZq3svjP5tHY79nyVWBCnCYzqF1q8bvxG3wJPCRXW',\n",
      "                               'invitation_mode': 'once',\n",
      "                               'my_did': 'JMdHwmQF6LWjfNrZ29NUBn',\n",
      "                               'routing_state': 'none',\n",
      "                               'state': 'response',\n",
      "                               'their_did': '86Yxi6WKpdyjkaU6jQd2Ys',\n",
      "                               'their_label': 'Plugin',\n",
      "                               'their_role': 'admin',\n",
      "                               'updated_at': '2020-06-09 15:24:11.458621Z'},\n",
      "                  'role': 'admin',\n",
      "                  'state': 'active',\n",
      "                  'their_did': '86Yxi6WKpdyjkaU6jQd2Ys'},\n",
      "                 {'connection_id': '9b232078-185f-41b1-97dc-98efe843bccb',\n",
      "                  'label': 'Plugin',\n",
      "                  'my_did': '6CEZBwLWsiWSv54tNfisJC',\n",
      "                  'raw_repr': {'accept': 'auto',\n",
      "                               'connection_id': '9b232078-185f-41b1-97dc-98efe843bccb',\n",
      "                               'created_at': '2020-06-09 15:26:50.356299Z',\n",
      "                               'initiator': 'self',\n",
      "                               'invitation_key': 'B7wmt841zMtdQBzxbP74XNpxaGnMMEAuqsXrqC69pmFk',\n",
      "                               'invitation_mode': 'once',\n",
      "                               'my_did': '6CEZBwLWsiWSv54tNfisJC',\n",
      "                               'routing_state': 'none',\n",
      "                               'state': 'active',\n",
      "                               'their_did': '2FCmXBPeZdLWmZMPHQuWfj',\n",
      "                               'their_label': 'Plugin',\n",
      "                               'their_role': 'admin',\n",
      "                               'updated_at': '2020-06-09 15:26:50.896593Z'},\n",
      "                  'role': 'admin',\n",
      "                  'state': 'active',\n",
      "                  'their_did': '2FCmXBPeZdLWmZMPHQuWfj'}],\n",
      " '~thread': {'thid': 'c8673004-ae5f-4bb2-81f2-959176ae13e3'}}\n"
     ]
    }
   ],
   "source": [
    "pp.pprint(util.getConnections(agents[1]))"
   ]
  },
  {
   "cell_type": "code",
   "execution_count": 92,
   "metadata": {
    "scrolled": true
   },
   "outputs": [
    {
     "name": "stdout",
     "output_type": "stream",
     "text": [
      "{'did': 'U3PsyA1jSfoFwNEJHWa1Xj',\n",
      " 'verkey': 'Fjq3NNooQaLBnXdbHGUbdjBNWG5esUhaM6Vcp9xfYySu'}\n"
     ]
    }
   ],
   "source": [
    "newDid = util.createDid(agents[0])\n",
    "pp.pprint(newDid['result'])"
   ]
  },
  {
   "cell_type": "code",
   "execution_count": 93,
   "metadata": {
    "scrolled": false
   },
   "outputs": [
    {
     "data": {
      "text/plain": [
       "{'@type': 'did:sov:BzCbsNYhMrjHiqZDTUASHg;spec/connections/1.0/response',\n",
       " '@id': 'c195e5cb-1fe3-4524-ac21-5fe1ec02efef',\n",
       " '~thread': {'thid': '30a8aa44-6944-4dd1-8f33-486436e6158a'},\n",
       " 'connection~sig': {'@type': 'did:sov:BzCbsNYhMrjHiqZDTUASHg;spec/signature/1.0/ed25519Sha512_single',\n",
       "  'signature': 'tnSzI2NeLYL_4VAsgSXAl-EyB5RHuMyQ5pFJBei80APsv1SCxz3OWAZTH3nz2x75J4sHpfqcmkLFgqm8xLvOBQ==',\n",
       "  'sig_data': 'AAAAAF7fqjt7IkRJRCI6ICJLN0RDbTdwM3pnclJYeG5wc3VXdVEyIiwgIkRJRERvYyI6IHsiQGNvbnRleHQiOiAiaHR0cHM6Ly93M2lkLm9yZy9kaWQvdjEiLCAiaWQiOiAiZGlkOnNvdjpLN0RDbTdwM3pnclJYeG5wc3VXdVEyIiwgInB1YmxpY0tleSI6IFt7ImlkIjogImRpZDpzb3Y6SzdEQ203cDN6Z3JSWHhucHN1V3VRMiMxIiwgInR5cGUiOiAiRWQyNTUxOVZlcmlmaWNhdGlvbktleTIwMTgiLCAiY29udHJvbGxlciI6ICJkaWQ6c292Oks3RENtN3AzemdyUlh4bnBzdVd1UTIiLCAicHVibGljS2V5QmFzZTU4IjogIkFzUURwM05vVldNMVVYMkd2TWJndUNhQnlyWVF3R01QQ2ZVRmFtSDI5N3I0In1dLCAiYXV0aGVudGljYXRpb24iOiBbeyJ0eXBlIjogIkVkMjU1MTlTaWduYXR1cmVBdXRoZW50aWNhdGlvbjIwMTgiLCAicHVibGljS2V5IjogImRpZDpzb3Y6SzdEQ203cDN6Z3JSWHhucHN1V3VRMiMxIn1dLCAic2VydmljZSI6IFt7ImlkIjogImRpZDpzb3Y6SzdEQ203cDN6Z3JSWHhucHN1V3VRMjtpbmR5IiwgInR5cGUiOiAiSW5keUFnZW50IiwgInByaW9yaXR5IjogMCwgInJlY2lwaWVudEtleXMiOiBbIkFzUURwM05vVldNMVVYMkd2TWJndUNhQnlyWVF3R01QQ2ZVRmFtSDI5N3I0Il0sICJzZXJ2aWNlRW5kcG9pbnQiOiAiaHR0cDovL2FnZW50MS5sb2NhbGhvc3QifV19fQ==',\n",
       "  'signer': 'CjoRY7jWu1RndtBGnc1b4WndCCZWBVMRs84nSAFx46wy'}}"
      ]
     },
     "execution_count": 93,
     "metadata": {},
     "output_type": "execute_result"
    }
   ],
   "source": [
    "util.registerDidOnLedger(agents[0], newDid['result']['did'], newDid['result']['verkey'])"
   ]
  },
  {
   "cell_type": "code",
   "execution_count": 94,
   "metadata": {
    "scrolled": false
   },
   "outputs": [
    {
     "data": {
      "text/plain": [
       "{'@type': 'did:sov:BzCbsNYhMrjHiqZDTUASHg;spec/admin-dids/0.1/did',\n",
       " '@id': '5698695e-d53f-41ee-b58e-a76da758def2',\n",
       " '~thread': {'thid': 'b4d7e852-ee2f-4bf5-8219-c3e993713797'},\n",
       " 'result': {'metadata': {'public': True},\n",
       "  'verkey': 'Fjq3NNooQaLBnXdbHGUbdjBNWG5esUhaM6Vcp9xfYySu',\n",
       "  'did': 'U3PsyA1jSfoFwNEJHWa1Xj'}}"
      ]
     },
     "execution_count": 94,
     "metadata": {},
     "output_type": "execute_result"
    }
   ],
   "source": [
    "util.setPublicDid(agents[0], newDid['result']['did'])"
   ]
  },
  {
   "cell_type": "code",
   "execution_count": 95,
   "metadata": {},
   "outputs": [
    {
     "name": "stdout",
     "output_type": "stream",
     "text": [
      "{'@id': 'f2ac1175-b7f8-4778-a0ed-63bc665ca401',\n",
      " '@type': 'did:sov:BzCbsNYhMrjHiqZDTUASHg;spec/admin-schemas/0.1/schema-id',\n",
      " 'schema_id': \"('U3PsyA1jSfoFwNEJHWa1Xj:2:schesssdddvd:1.0', {'ver': '1.0', \"\n",
      "              \"'id': 'U3PsyA1jSfoFwNEJHWa1Xj:2:schesssdddvd:1.0', 'name': \"\n",
      "              \"'schesssdddvd', 'version': '1.0', 'attrNames': \"\n",
      "              \"['memesssaaaaaaa'], 'seqNo': 15})\",\n",
      " '~thread': {'thid': 'f6cafbbb-9020-4c6c-a5f8-bbf3526ae25f'}}\n"
     ]
    }
   ],
   "source": [
    "pp.pprint(util.sendSchema(agents[0], \"schesssdddvd\", \"1.0\", [\"memesssaaaaaaa\"]))"
   ]
  },
  {
   "cell_type": "code",
   "execution_count": 96,
   "metadata": {},
   "outputs": [
    {
     "name": "stdout",
     "output_type": "stream",
     "text": [
      "{'@type': 'did:sov:BzCbsNYhMrjHiqZDTUASHg;spec/admin-schemas/0.1/schema-list', '@id': 'b67ec8e7-85f3-45a3-93d1-6fefba9a325d', '~thread': {'thid': '86c29bc9-d1b8-4427-a663-888962d72930'}, 'results': [{'schema_version': '1.0', 'updated_at': '2020-06-09 14:56:43.854957Z', 'schema_id': 'U', 'state': 'written', 'author': 'other', 'schema_name': 'schesssdddvd', 'attributes': ['memesssaaaaaaa'], 'created_at': '2020-06-09 14:56:43.854957Z'}, {'schema_version': '1.0', 'updated_at': '2020-06-09 15:26:54.290235Z', 'schema_id': 'U3PsyA1jSfoFwNEJHWa1Xj:2:schesssdddvd:1.0', 'state': 'written', 'author': 'self', 'schema_name': 'schesssdddvd', 'attributes': ['memesssaaaaaaa'], 'created_at': '2020-06-09 15:26:54.290235Z'}, {'schema_version': '1.0', 'updated_at': '2020-06-09 14:56:43.771284Z', 'schema_id': 'UTckeR8yEogf7QUDKNoFH7:2:schesssdddvd:1.0', 'state': 'written', 'author': 'self', 'schema_name': 'schesssdddvd', 'attributes': ['memesssaaaaaaa'], 'created_at': '2020-06-09 14:56:43.771284Z'}, {'schema_version': '1.0', 'updated_at': '2020-06-09 14:56:46.897805Z', 'schema_id': 'U', 'state': 'written', 'author': 'other', 'schema_name': 'schesssdddvd', 'attributes': ['memesssaaaaaaa'], 'created_at': '2020-06-09 14:56:46.897805Z'}, {'schema_version': '1.0', 'updated_at': '2020-06-09 14:56:43.888212Z', 'schema_id': 'U', 'state': 'written', 'author': 'other', 'schema_name': 'schesssdddvd', 'attributes': ['memesssaaaaaaa'], 'created_at': '2020-06-09 14:56:43.888212Z'}]}\n"
     ]
    }
   ],
   "source": [
    "result = util.schemaGetList(agents[0])\n",
    "last_schema_id = result['results'][-1]['schema_id']\n",
    "print(result)"
   ]
  },
  {
   "cell_type": "code",
   "execution_count": 97,
   "metadata": {},
   "outputs": [
    {
     "ename": "KeyboardInterrupt",
     "evalue": "",
     "output_type": "error",
     "traceback": [
      "\u001b[0;31m---------------------------------------------------------------------------\u001b[0m",
      "\u001b[0;31mTypeError\u001b[0m                                 Traceback (most recent call last)",
      "\u001b[0;32m/usr/lib/python3/dist-packages/urllib3/connectionpool.py\u001b[0m in \u001b[0;36m_make_request\u001b[0;34m(self, conn, method, url, timeout, chunked, **httplib_request_kw)\u001b[0m\n\u001b[1;32m    376\u001b[0m             \u001b[0;32mtry\u001b[0m\u001b[0;34m:\u001b[0m  \u001b[0;31m# Python 2.7, use buffering of HTTP responses\u001b[0m\u001b[0;34m\u001b[0m\u001b[0;34m\u001b[0m\u001b[0m\n\u001b[0;32m--> 377\u001b[0;31m                 \u001b[0mhttplib_response\u001b[0m \u001b[0;34m=\u001b[0m \u001b[0mconn\u001b[0m\u001b[0;34m.\u001b[0m\u001b[0mgetresponse\u001b[0m\u001b[0;34m(\u001b[0m\u001b[0mbuffering\u001b[0m\u001b[0;34m=\u001b[0m\u001b[0;32mTrue\u001b[0m\u001b[0;34m)\u001b[0m\u001b[0;34m\u001b[0m\u001b[0;34m\u001b[0m\u001b[0m\n\u001b[0m\u001b[1;32m    378\u001b[0m             \u001b[0;32mexcept\u001b[0m \u001b[0mTypeError\u001b[0m\u001b[0;34m:\u001b[0m  \u001b[0;31m# Python 3\u001b[0m\u001b[0;34m\u001b[0m\u001b[0;34m\u001b[0m\u001b[0m\n",
      "\u001b[0;31mTypeError\u001b[0m: getresponse() got an unexpected keyword argument 'buffering'",
      "\nDuring handling of the above exception, another exception occurred:\n",
      "\u001b[0;31mKeyboardInterrupt\u001b[0m                         Traceback (most recent call last)",
      "\u001b[0;32m<ipython-input-97-af23d9804983>\u001b[0m in \u001b[0;36m<module>\u001b[0;34m\u001b[0m\n\u001b[0;32m----> 1\u001b[0;31m \u001b[0mutil\u001b[0m\u001b[0;34m.\u001b[0m\u001b[0mschemaGet\u001b[0m\u001b[0;34m(\u001b[0m\u001b[0magents\u001b[0m\u001b[0;34m[\u001b[0m\u001b[0;36m0\u001b[0m\u001b[0;34m]\u001b[0m\u001b[0;34m,\u001b[0m \u001b[0mlast_schema_id\u001b[0m\u001b[0;34m)\u001b[0m\u001b[0;34m\u001b[0m\u001b[0;34m\u001b[0m\u001b[0m\n\u001b[0m",
      "\u001b[0;32m~/Documents/thclab/aries/aries-acapy-plugin/controller_acapy/jupyter_util.py\u001b[0m in \u001b[0;36mschemaGet\u001b[0;34m(agent, schema_id)\u001b[0m\n\u001b[1;32m    284\u001b[0m         \u001b[0mschema_id\u001b[0m\u001b[0;34m=\u001b[0m\u001b[0mschema_id\u001b[0m\u001b[0;34m\u001b[0m\u001b[0;34m\u001b[0m\u001b[0m\n\u001b[1;32m    285\u001b[0m     )\n\u001b[0;32m--> 286\u001b[0;31m     \u001b[0;32mreturn\u001b[0m \u001b[0msendMessage\u001b[0m\u001b[0;34m(\u001b[0m\u001b[0mmessage\u001b[0m\u001b[0;34m,\u001b[0m \u001b[0magent\u001b[0m\u001b[0;34m)\u001b[0m\u001b[0;34m\u001b[0m\u001b[0;34m\u001b[0m\u001b[0m\n\u001b[0m\u001b[1;32m    287\u001b[0m \u001b[0;34m\u001b[0m\u001b[0m\n\u001b[1;32m    288\u001b[0m \u001b[0;32mdef\u001b[0m \u001b[0msendCredentialDefinition\u001b[0m\u001b[0;34m(\u001b[0m\u001b[0magent\u001b[0m\u001b[0;34m,\u001b[0m \u001b[0mschema_id\u001b[0m\u001b[0;34m)\u001b[0m\u001b[0;34m:\u001b[0m\u001b[0;34m\u001b[0m\u001b[0;34m\u001b[0m\u001b[0m\n",
      "\u001b[0;32m~/Documents/thclab/aries/aries-acapy-plugin/controller_acapy/jupyter_util.py\u001b[0m in \u001b[0;36msendMessage\u001b[0;34m(message, connection)\u001b[0m\n\u001b[1;32m    132\u001b[0m     \u001b[0mencodedMessage\u001b[0m \u001b[0;34m=\u001b[0m \u001b[0mpackMessage\u001b[0m\u001b[0;34m(\u001b[0m\u001b[0mmessage\u001b[0m\u001b[0;34m,\u001b[0m \u001b[0mconnection\u001b[0m\u001b[0;34m)\u001b[0m\u001b[0;34m\u001b[0m\u001b[0;34m\u001b[0m\u001b[0m\n\u001b[1;32m    133\u001b[0m     \u001b[0mendpoint\u001b[0m \u001b[0;34m=\u001b[0m \u001b[0mconnection\u001b[0m\u001b[0;34m[\u001b[0m\u001b[0;34m'DIDDoc'\u001b[0m\u001b[0;34m]\u001b[0m\u001b[0;34m[\u001b[0m\u001b[0;34m'service'\u001b[0m\u001b[0;34m]\u001b[0m\u001b[0;34m[\u001b[0m\u001b[0;36m0\u001b[0m\u001b[0;34m]\u001b[0m\u001b[0;34m[\u001b[0m\u001b[0;34m'serviceEndpoint'\u001b[0m\u001b[0;34m]\u001b[0m\u001b[0;34m\u001b[0m\u001b[0;34m\u001b[0m\u001b[0m\n\u001b[0;32m--> 134\u001b[0;31m     \u001b[0mresponse\u001b[0m \u001b[0;34m=\u001b[0m \u001b[0mrequests\u001b[0m\u001b[0;34m.\u001b[0m\u001b[0mpost\u001b[0m\u001b[0;34m(\u001b[0m\u001b[0mendpoint\u001b[0m\u001b[0;34m,\u001b[0m \u001b[0mdata\u001b[0m\u001b[0;34m=\u001b[0m\u001b[0mencodedMessage\u001b[0m\u001b[0;34m)\u001b[0m\u001b[0;34m\u001b[0m\u001b[0;34m\u001b[0m\u001b[0m\n\u001b[0m\u001b[1;32m    135\u001b[0m     \u001b[0mresponseDecoded\u001b[0m \u001b[0;34m=\u001b[0m \u001b[0munpackMessage\u001b[0m\u001b[0;34m(\u001b[0m\u001b[0mresponse\u001b[0m\u001b[0;34m.\u001b[0m\u001b[0mtext\u001b[0m\u001b[0;34m,\u001b[0m \u001b[0mconnection\u001b[0m\u001b[0;34m[\u001b[0m\u001b[0;34m'myKey'\u001b[0m\u001b[0;34m]\u001b[0m\u001b[0;34m)\u001b[0m\u001b[0;34m\u001b[0m\u001b[0;34m\u001b[0m\u001b[0m\n\u001b[1;32m    136\u001b[0m     \u001b[0mresponseDecoded\u001b[0m \u001b[0;34m=\u001b[0m \u001b[0mjson\u001b[0m\u001b[0;34m.\u001b[0m\u001b[0mloads\u001b[0m\u001b[0;34m(\u001b[0m\u001b[0mresponseDecoded\u001b[0m\u001b[0;34m[\u001b[0m\u001b[0;36m0\u001b[0m\u001b[0;34m]\u001b[0m\u001b[0;34m)\u001b[0m\u001b[0;34m\u001b[0m\u001b[0;34m\u001b[0m\u001b[0m\n",
      "\u001b[0;32m~/.local/lib/python3.7/site-packages/requests/api.py\u001b[0m in \u001b[0;36mpost\u001b[0;34m(url, data, json, **kwargs)\u001b[0m\n\u001b[1;32m    117\u001b[0m     \"\"\"\n\u001b[1;32m    118\u001b[0m \u001b[0;34m\u001b[0m\u001b[0m\n\u001b[0;32m--> 119\u001b[0;31m     \u001b[0;32mreturn\u001b[0m \u001b[0mrequest\u001b[0m\u001b[0;34m(\u001b[0m\u001b[0;34m'post'\u001b[0m\u001b[0;34m,\u001b[0m \u001b[0murl\u001b[0m\u001b[0;34m,\u001b[0m \u001b[0mdata\u001b[0m\u001b[0;34m=\u001b[0m\u001b[0mdata\u001b[0m\u001b[0;34m,\u001b[0m \u001b[0mjson\u001b[0m\u001b[0;34m=\u001b[0m\u001b[0mjson\u001b[0m\u001b[0;34m,\u001b[0m \u001b[0;34m**\u001b[0m\u001b[0mkwargs\u001b[0m\u001b[0;34m)\u001b[0m\u001b[0;34m\u001b[0m\u001b[0;34m\u001b[0m\u001b[0m\n\u001b[0m\u001b[1;32m    120\u001b[0m \u001b[0;34m\u001b[0m\u001b[0m\n\u001b[1;32m    121\u001b[0m \u001b[0;34m\u001b[0m\u001b[0m\n",
      "\u001b[0;32m~/.local/lib/python3.7/site-packages/requests/api.py\u001b[0m in \u001b[0;36mrequest\u001b[0;34m(method, url, **kwargs)\u001b[0m\n\u001b[1;32m     59\u001b[0m     \u001b[0;31m# cases, and look like a memory leak in others.\u001b[0m\u001b[0;34m\u001b[0m\u001b[0;34m\u001b[0m\u001b[0;34m\u001b[0m\u001b[0m\n\u001b[1;32m     60\u001b[0m     \u001b[0;32mwith\u001b[0m \u001b[0msessions\u001b[0m\u001b[0;34m.\u001b[0m\u001b[0mSession\u001b[0m\u001b[0;34m(\u001b[0m\u001b[0;34m)\u001b[0m \u001b[0;32mas\u001b[0m \u001b[0msession\u001b[0m\u001b[0;34m:\u001b[0m\u001b[0;34m\u001b[0m\u001b[0;34m\u001b[0m\u001b[0m\n\u001b[0;32m---> 61\u001b[0;31m         \u001b[0;32mreturn\u001b[0m \u001b[0msession\u001b[0m\u001b[0;34m.\u001b[0m\u001b[0mrequest\u001b[0m\u001b[0;34m(\u001b[0m\u001b[0mmethod\u001b[0m\u001b[0;34m=\u001b[0m\u001b[0mmethod\u001b[0m\u001b[0;34m,\u001b[0m \u001b[0murl\u001b[0m\u001b[0;34m=\u001b[0m\u001b[0murl\u001b[0m\u001b[0;34m,\u001b[0m \u001b[0;34m**\u001b[0m\u001b[0mkwargs\u001b[0m\u001b[0;34m)\u001b[0m\u001b[0;34m\u001b[0m\u001b[0;34m\u001b[0m\u001b[0m\n\u001b[0m\u001b[1;32m     62\u001b[0m \u001b[0;34m\u001b[0m\u001b[0m\n\u001b[1;32m     63\u001b[0m \u001b[0;34m\u001b[0m\u001b[0m\n",
      "\u001b[0;32m~/.local/lib/python3.7/site-packages/requests/sessions.py\u001b[0m in \u001b[0;36mrequest\u001b[0;34m(self, method, url, params, data, headers, cookies, files, auth, timeout, allow_redirects, proxies, hooks, stream, verify, cert, json)\u001b[0m\n\u001b[1;32m    528\u001b[0m         }\n\u001b[1;32m    529\u001b[0m         \u001b[0msend_kwargs\u001b[0m\u001b[0;34m.\u001b[0m\u001b[0mupdate\u001b[0m\u001b[0;34m(\u001b[0m\u001b[0msettings\u001b[0m\u001b[0;34m)\u001b[0m\u001b[0;34m\u001b[0m\u001b[0;34m\u001b[0m\u001b[0m\n\u001b[0;32m--> 530\u001b[0;31m         \u001b[0mresp\u001b[0m \u001b[0;34m=\u001b[0m \u001b[0mself\u001b[0m\u001b[0;34m.\u001b[0m\u001b[0msend\u001b[0m\u001b[0;34m(\u001b[0m\u001b[0mprep\u001b[0m\u001b[0;34m,\u001b[0m \u001b[0;34m**\u001b[0m\u001b[0msend_kwargs\u001b[0m\u001b[0;34m)\u001b[0m\u001b[0;34m\u001b[0m\u001b[0;34m\u001b[0m\u001b[0m\n\u001b[0m\u001b[1;32m    531\u001b[0m \u001b[0;34m\u001b[0m\u001b[0m\n\u001b[1;32m    532\u001b[0m         \u001b[0;32mreturn\u001b[0m \u001b[0mresp\u001b[0m\u001b[0;34m\u001b[0m\u001b[0;34m\u001b[0m\u001b[0m\n",
      "\u001b[0;32m~/.local/lib/python3.7/site-packages/requests/sessions.py\u001b[0m in \u001b[0;36msend\u001b[0;34m(self, request, **kwargs)\u001b[0m\n\u001b[1;32m    641\u001b[0m \u001b[0;34m\u001b[0m\u001b[0m\n\u001b[1;32m    642\u001b[0m         \u001b[0;31m# Send the request\u001b[0m\u001b[0;34m\u001b[0m\u001b[0;34m\u001b[0m\u001b[0;34m\u001b[0m\u001b[0m\n\u001b[0;32m--> 643\u001b[0;31m         \u001b[0mr\u001b[0m \u001b[0;34m=\u001b[0m \u001b[0madapter\u001b[0m\u001b[0;34m.\u001b[0m\u001b[0msend\u001b[0m\u001b[0;34m(\u001b[0m\u001b[0mrequest\u001b[0m\u001b[0;34m,\u001b[0m \u001b[0;34m**\u001b[0m\u001b[0mkwargs\u001b[0m\u001b[0;34m)\u001b[0m\u001b[0;34m\u001b[0m\u001b[0;34m\u001b[0m\u001b[0m\n\u001b[0m\u001b[1;32m    644\u001b[0m \u001b[0;34m\u001b[0m\u001b[0m\n\u001b[1;32m    645\u001b[0m         \u001b[0;31m# Total elapsed time of the request (approximately)\u001b[0m\u001b[0;34m\u001b[0m\u001b[0;34m\u001b[0m\u001b[0;34m\u001b[0m\u001b[0m\n",
      "\u001b[0;32m~/.local/lib/python3.7/site-packages/requests/adapters.py\u001b[0m in \u001b[0;36msend\u001b[0;34m(self, request, stream, timeout, verify, cert, proxies)\u001b[0m\n\u001b[1;32m    447\u001b[0m                     \u001b[0mdecode_content\u001b[0m\u001b[0;34m=\u001b[0m\u001b[0;32mFalse\u001b[0m\u001b[0;34m,\u001b[0m\u001b[0;34m\u001b[0m\u001b[0;34m\u001b[0m\u001b[0m\n\u001b[1;32m    448\u001b[0m                     \u001b[0mretries\u001b[0m\u001b[0;34m=\u001b[0m\u001b[0mself\u001b[0m\u001b[0;34m.\u001b[0m\u001b[0mmax_retries\u001b[0m\u001b[0;34m,\u001b[0m\u001b[0;34m\u001b[0m\u001b[0;34m\u001b[0m\u001b[0m\n\u001b[0;32m--> 449\u001b[0;31m                     \u001b[0mtimeout\u001b[0m\u001b[0;34m=\u001b[0m\u001b[0mtimeout\u001b[0m\u001b[0;34m\u001b[0m\u001b[0;34m\u001b[0m\u001b[0m\n\u001b[0m\u001b[1;32m    450\u001b[0m                 )\n\u001b[1;32m    451\u001b[0m \u001b[0;34m\u001b[0m\u001b[0m\n",
      "\u001b[0;32m/usr/lib/python3/dist-packages/urllib3/connectionpool.py\u001b[0m in \u001b[0;36murlopen\u001b[0;34m(self, method, url, body, headers, retries, redirect, assert_same_host, timeout, pool_timeout, release_conn, chunked, body_pos, **response_kw)\u001b[0m\n\u001b[1;32m    598\u001b[0m                                                   \u001b[0mtimeout\u001b[0m\u001b[0;34m=\u001b[0m\u001b[0mtimeout_obj\u001b[0m\u001b[0;34m,\u001b[0m\u001b[0;34m\u001b[0m\u001b[0;34m\u001b[0m\u001b[0m\n\u001b[1;32m    599\u001b[0m                                                   \u001b[0mbody\u001b[0m\u001b[0;34m=\u001b[0m\u001b[0mbody\u001b[0m\u001b[0;34m,\u001b[0m \u001b[0mheaders\u001b[0m\u001b[0;34m=\u001b[0m\u001b[0mheaders\u001b[0m\u001b[0;34m,\u001b[0m\u001b[0;34m\u001b[0m\u001b[0;34m\u001b[0m\u001b[0m\n\u001b[0;32m--> 600\u001b[0;31m                                                   chunked=chunked)\n\u001b[0m\u001b[1;32m    601\u001b[0m \u001b[0;34m\u001b[0m\u001b[0m\n\u001b[1;32m    602\u001b[0m             \u001b[0;31m# If we're going to release the connection in ``finally:``, then\u001b[0m\u001b[0;34m\u001b[0m\u001b[0;34m\u001b[0m\u001b[0;34m\u001b[0m\u001b[0m\n",
      "\u001b[0;32m/usr/lib/python3/dist-packages/urllib3/connectionpool.py\u001b[0m in \u001b[0;36m_make_request\u001b[0;34m(self, conn, method, url, timeout, chunked, **httplib_request_kw)\u001b[0m\n\u001b[1;32m    378\u001b[0m             \u001b[0;32mexcept\u001b[0m \u001b[0mTypeError\u001b[0m\u001b[0;34m:\u001b[0m  \u001b[0;31m# Python 3\u001b[0m\u001b[0;34m\u001b[0m\u001b[0;34m\u001b[0m\u001b[0m\n\u001b[1;32m    379\u001b[0m                 \u001b[0;32mtry\u001b[0m\u001b[0;34m:\u001b[0m\u001b[0;34m\u001b[0m\u001b[0;34m\u001b[0m\u001b[0m\n\u001b[0;32m--> 380\u001b[0;31m                     \u001b[0mhttplib_response\u001b[0m \u001b[0;34m=\u001b[0m \u001b[0mconn\u001b[0m\u001b[0;34m.\u001b[0m\u001b[0mgetresponse\u001b[0m\u001b[0;34m(\u001b[0m\u001b[0;34m)\u001b[0m\u001b[0;34m\u001b[0m\u001b[0;34m\u001b[0m\u001b[0m\n\u001b[0m\u001b[1;32m    381\u001b[0m                 \u001b[0;32mexcept\u001b[0m \u001b[0mException\u001b[0m \u001b[0;32mas\u001b[0m \u001b[0me\u001b[0m\u001b[0;34m:\u001b[0m\u001b[0;34m\u001b[0m\u001b[0;34m\u001b[0m\u001b[0m\n\u001b[1;32m    382\u001b[0m                     \u001b[0;31m# Remove the TypeError from the exception chain in Python 3;\u001b[0m\u001b[0;34m\u001b[0m\u001b[0;34m\u001b[0m\u001b[0;34m\u001b[0m\u001b[0m\n",
      "\u001b[0;32m/usr/lib/python3.7/http/client.py\u001b[0m in \u001b[0;36mgetresponse\u001b[0;34m(self)\u001b[0m\n\u001b[1;32m   1352\u001b[0m         \u001b[0;32mtry\u001b[0m\u001b[0;34m:\u001b[0m\u001b[0;34m\u001b[0m\u001b[0;34m\u001b[0m\u001b[0m\n\u001b[1;32m   1353\u001b[0m             \u001b[0;32mtry\u001b[0m\u001b[0;34m:\u001b[0m\u001b[0;34m\u001b[0m\u001b[0;34m\u001b[0m\u001b[0m\n\u001b[0;32m-> 1354\u001b[0;31m                 \u001b[0mresponse\u001b[0m\u001b[0;34m.\u001b[0m\u001b[0mbegin\u001b[0m\u001b[0;34m(\u001b[0m\u001b[0;34m)\u001b[0m\u001b[0;34m\u001b[0m\u001b[0;34m\u001b[0m\u001b[0m\n\u001b[0m\u001b[1;32m   1355\u001b[0m             \u001b[0;32mexcept\u001b[0m \u001b[0mConnectionError\u001b[0m\u001b[0;34m:\u001b[0m\u001b[0;34m\u001b[0m\u001b[0;34m\u001b[0m\u001b[0m\n\u001b[1;32m   1356\u001b[0m                 \u001b[0mself\u001b[0m\u001b[0;34m.\u001b[0m\u001b[0mclose\u001b[0m\u001b[0;34m(\u001b[0m\u001b[0;34m)\u001b[0m\u001b[0;34m\u001b[0m\u001b[0;34m\u001b[0m\u001b[0m\n",
      "\u001b[0;32m/usr/lib/python3.7/http/client.py\u001b[0m in \u001b[0;36mbegin\u001b[0;34m(self)\u001b[0m\n\u001b[1;32m    304\u001b[0m         \u001b[0;31m# read until we get a non-100 response\u001b[0m\u001b[0;34m\u001b[0m\u001b[0;34m\u001b[0m\u001b[0;34m\u001b[0m\u001b[0m\n\u001b[1;32m    305\u001b[0m         \u001b[0;32mwhile\u001b[0m \u001b[0;32mTrue\u001b[0m\u001b[0;34m:\u001b[0m\u001b[0;34m\u001b[0m\u001b[0;34m\u001b[0m\u001b[0m\n\u001b[0;32m--> 306\u001b[0;31m             \u001b[0mversion\u001b[0m\u001b[0;34m,\u001b[0m \u001b[0mstatus\u001b[0m\u001b[0;34m,\u001b[0m \u001b[0mreason\u001b[0m \u001b[0;34m=\u001b[0m \u001b[0mself\u001b[0m\u001b[0;34m.\u001b[0m\u001b[0m_read_status\u001b[0m\u001b[0;34m(\u001b[0m\u001b[0;34m)\u001b[0m\u001b[0;34m\u001b[0m\u001b[0;34m\u001b[0m\u001b[0m\n\u001b[0m\u001b[1;32m    307\u001b[0m             \u001b[0;32mif\u001b[0m \u001b[0mstatus\u001b[0m \u001b[0;34m!=\u001b[0m \u001b[0mCONTINUE\u001b[0m\u001b[0;34m:\u001b[0m\u001b[0;34m\u001b[0m\u001b[0;34m\u001b[0m\u001b[0m\n\u001b[1;32m    308\u001b[0m                 \u001b[0;32mbreak\u001b[0m\u001b[0;34m\u001b[0m\u001b[0;34m\u001b[0m\u001b[0m\n",
      "\u001b[0;32m/usr/lib/python3.7/http/client.py\u001b[0m in \u001b[0;36m_read_status\u001b[0;34m(self)\u001b[0m\n\u001b[1;32m    265\u001b[0m \u001b[0;34m\u001b[0m\u001b[0m\n\u001b[1;32m    266\u001b[0m     \u001b[0;32mdef\u001b[0m \u001b[0m_read_status\u001b[0m\u001b[0;34m(\u001b[0m\u001b[0mself\u001b[0m\u001b[0;34m)\u001b[0m\u001b[0;34m:\u001b[0m\u001b[0;34m\u001b[0m\u001b[0;34m\u001b[0m\u001b[0m\n\u001b[0;32m--> 267\u001b[0;31m         \u001b[0mline\u001b[0m \u001b[0;34m=\u001b[0m \u001b[0mstr\u001b[0m\u001b[0;34m(\u001b[0m\u001b[0mself\u001b[0m\u001b[0;34m.\u001b[0m\u001b[0mfp\u001b[0m\u001b[0;34m.\u001b[0m\u001b[0mreadline\u001b[0m\u001b[0;34m(\u001b[0m\u001b[0m_MAXLINE\u001b[0m \u001b[0;34m+\u001b[0m \u001b[0;36m1\u001b[0m\u001b[0;34m)\u001b[0m\u001b[0;34m,\u001b[0m \u001b[0;34m\"iso-8859-1\"\u001b[0m\u001b[0;34m)\u001b[0m\u001b[0;34m\u001b[0m\u001b[0;34m\u001b[0m\u001b[0m\n\u001b[0m\u001b[1;32m    268\u001b[0m         \u001b[0;32mif\u001b[0m \u001b[0mlen\u001b[0m\u001b[0;34m(\u001b[0m\u001b[0mline\u001b[0m\u001b[0;34m)\u001b[0m \u001b[0;34m>\u001b[0m \u001b[0m_MAXLINE\u001b[0m\u001b[0;34m:\u001b[0m\u001b[0;34m\u001b[0m\u001b[0;34m\u001b[0m\u001b[0m\n\u001b[1;32m    269\u001b[0m             \u001b[0;32mraise\u001b[0m \u001b[0mLineTooLong\u001b[0m\u001b[0;34m(\u001b[0m\u001b[0;34m\"status line\"\u001b[0m\u001b[0;34m)\u001b[0m\u001b[0;34m\u001b[0m\u001b[0;34m\u001b[0m\u001b[0m\n",
      "\u001b[0;32m/usr/lib/python3.7/socket.py\u001b[0m in \u001b[0;36mreadinto\u001b[0;34m(self, b)\u001b[0m\n\u001b[1;32m    587\u001b[0m         \u001b[0;32mwhile\u001b[0m \u001b[0;32mTrue\u001b[0m\u001b[0;34m:\u001b[0m\u001b[0;34m\u001b[0m\u001b[0;34m\u001b[0m\u001b[0m\n\u001b[1;32m    588\u001b[0m             \u001b[0;32mtry\u001b[0m\u001b[0;34m:\u001b[0m\u001b[0;34m\u001b[0m\u001b[0;34m\u001b[0m\u001b[0m\n\u001b[0;32m--> 589\u001b[0;31m                 \u001b[0;32mreturn\u001b[0m \u001b[0mself\u001b[0m\u001b[0;34m.\u001b[0m\u001b[0m_sock\u001b[0m\u001b[0;34m.\u001b[0m\u001b[0mrecv_into\u001b[0m\u001b[0;34m(\u001b[0m\u001b[0mb\u001b[0m\u001b[0;34m)\u001b[0m\u001b[0;34m\u001b[0m\u001b[0;34m\u001b[0m\u001b[0m\n\u001b[0m\u001b[1;32m    590\u001b[0m             \u001b[0;32mexcept\u001b[0m \u001b[0mtimeout\u001b[0m\u001b[0;34m:\u001b[0m\u001b[0;34m\u001b[0m\u001b[0;34m\u001b[0m\u001b[0m\n\u001b[1;32m    591\u001b[0m                 \u001b[0mself\u001b[0m\u001b[0;34m.\u001b[0m\u001b[0m_timeout_occurred\u001b[0m \u001b[0;34m=\u001b[0m \u001b[0;32mTrue\u001b[0m\u001b[0;34m\u001b[0m\u001b[0;34m\u001b[0m\u001b[0m\n",
      "\u001b[0;31mKeyboardInterrupt\u001b[0m: "
     ]
    }
   ],
   "source": [
    "util.schemaGet(agents[0], last_schema_id)"
   ]
  },
  {
   "cell_type": "code",
   "execution_count": null,
   "metadata": {
    "scrolled": true
   },
   "outputs": [],
   "source": [
    "result = util.sendCredentialDefinition(agents[0], last_schema_id)\n",
    "cred_def_id = result['cred_def_id']\n",
    "print(cred_def_id)"
   ]
  },
  {
   "cell_type": "code",
   "execution_count": null,
   "metadata": {},
   "outputs": [],
   "source": [
    "util.getCredentialDefinitionList(agents[0])"
   ]
  },
  {
   "cell_type": "code",
   "execution_count": null,
   "metadata": {
    "scrolled": true
   },
   "outputs": [],
   "source": [
    "util.getCredentialDefinition(agents[0], cred_def_id)"
   ]
  }
 ],
 "metadata": {
  "kernelspec": {
   "display_name": "Python 3",
   "language": "python",
   "name": "python3"
  },
  "language_info": {
   "codemirror_mode": {
    "name": "ipython",
    "version": 3
   },
   "file_extension": ".py",
   "mimetype": "text/x-python",
   "name": "python",
   "nbconvert_exporter": "python",
   "pygments_lexer": "ipython3",
   "version": "3.7.5"
  }
 },
 "nbformat": 4,
 "nbformat_minor": 4
}
